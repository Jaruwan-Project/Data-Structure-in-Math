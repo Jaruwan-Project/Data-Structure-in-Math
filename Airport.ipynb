{
  "nbformat": 4,
  "nbformat_minor": 0,
  "metadata": {
    "colab": {
      "provenance": []
    },
    "kernelspec": {
      "name": "python3",
      "display_name": "Python 3"
    },
    "language_info": {
      "name": "python"
    }
  },
  "cells": [
    {
      "cell_type": "code",
      "execution_count": null,
      "metadata": {
        "id": "G3dZdw3weJyA"
      },
      "outputs": [],
      "source": [
        "class Empty(Exception):\n",
        "  pass\n",
        "class ArrayQueue:\n",
        "  Default_Capacity = 10\n",
        "\n",
        "  def __init__(self):\n",
        "    self._data = [None] * ArrayQueue.Default_Capacity\n",
        "    self._size = 0\n",
        "    self._front = 0\n",
        "  def __len__(self):\n",
        "    return self._size\n",
        "  def is_empty(self):\n",
        "    return self._size == 0\n",
        "  def first(self):\n",
        "    if self.is_empty():\n",
        "      raise Empty('Queue is empty')\n",
        "    return self._data[self._front]\n",
        "  def dequeue(self):\n",
        "    if self.is_empty():\n",
        "      raise Empty('Queue is empty')\n",
        "    answer = self._data[self._front]\n",
        "    self._data[self._front] = None\n",
        "    self._front = (self._front+1) % len(self._data)\n",
        "    self._size -= 1\n",
        "    return answer\n",
        "  def enqueue(self,e):\n",
        "    if self._size == len(self._data):\n",
        "      self._resize(2*len(self._data))\n",
        "    avail = (self._front+self._size)% len(self._data)\n",
        "    self._data[avail] = e\n",
        "    self._size += 1\n",
        "\n",
        "  def _resize(self, cap):                  # we assume cap >= len(self)\n",
        "    \"\"\"Resize to a new list of capacity >= len(self).\"\"\"\n",
        "    old = self._data                       # keep track of existing list\n",
        "    self._data = [None] * cap              # allocate list with new capacity\n",
        "    walk = self._front\n",
        "    for k in range(self._size):            # only consider existing elements\n",
        "      self._data[k] = old[walk]            # intentionally shift indices\n",
        "      walk = (1 + walk) % len(old)         # use old size as modulus\n",
        "    self._front = 0"
      ]
    },
    {
      "cell_type": "markdown",
      "source": [
        "ซันทำอันนี้"
      ],
      "metadata": {
        "id": "oHFAC4Jx3tpC"
      }
    },
    {
      "cell_type": "code",
      "source": [
        "class Airport_ticket:\n",
        "  def __init__(self,ticket_type,departure_date,return_date,airline,firstname,surname,tel):\n",
        "    self.ticket_type = ticket_type #\n",
        "    self.departure_date = departure_date #\n",
        "    self.return_date = return_date #\n",
        "    self.airline = airline #\n",
        "    self.firstname = firstname\n",
        "    self.surname = surname\n",
        "    self.tel = tel\n"
      ],
      "metadata": {
        "id": "IOeral2q1PEe"
      },
      "execution_count": null,
      "outputs": []
    },
    {
      "cell_type": "markdown",
      "source": [
        "จบแล้ว"
      ],
      "metadata": {
        "id": "W4shfhps3vry"
      }
    },
    {
      "cell_type": "code",
      "source": [
        "    Q = ArrayQueue()\n",
        "    Q.enqueue(1)\n",
        "    Q.enqueue(2)\n",
        "    Q.enqueue(3)\n",
        "    Q.enqueue(4)\n",
        "    Q.enqueue(5)\n",
        "    Q.enqueue(6)\n",
        "    Q.enqueue(7)\n",
        "    Q.enqueue(8)\n",
        "    Q.enqueue(9)\n",
        "    Q.enqueue([10,2,4,8])\n",
        "    print(len(Q))\n",
        "    print(Q._data)\n",
        "    print(Q._data[9][0])"
      ],
      "metadata": {
        "colab": {
          "base_uri": "https://localhost:8080/"
        },
        "id": "ZmZePmPqly--",
        "outputId": "963b32a0-6ca7-405f-8039-354f2f64d3d0"
      },
      "execution_count": null,
      "outputs": [
        {
          "output_type": "stream",
          "name": "stdout",
          "text": [
            "10\n",
            "[1, 2, 3, 4, 5, 6, 7, 8, 9, [10, 2, 4, 8]]\n",
            "10\n"
          ]
        }
      ]
    },
    {
      "cell_type": "markdown",
      "source": [
        "สร้างClass trip"
      ],
      "metadata": {
        "id": "lGWLUcoz0TbL"
      }
    },
    {
      "cell_type": "code",
      "source": [
        "from datetime import datetime"
      ],
      "metadata": {
        "id": "35c4Y9lq1Ca1"
      },
      "execution_count": null,
      "outputs": []
    },
    {
      "cell_type": "code",
      "source": [
        "def tickettype():\n",
        "  ticket_type=input(\"Enter type of ticket (One Trip / Round Trip):\") #เดะทำเป็นปุ่มนะ\n",
        "  if ticket_type == \"One Trip\":\n",
        "    trip=onetrip()\n",
        "  elif ticket_type == \"Round Trip\":\n",
        "    trip=roundtrip()\n",
        "  return trip"
      ],
      "metadata": {
        "id": "lAOJI04d3kVf"
      },
      "execution_count": null,
      "outputs": []
    },
    {
      "cell_type": "code",
      "source": [
        "def onetrip():\n",
        "  date_format = \"%d/%m/%Y\"\n",
        "  departure_date=str(input(\"Enter Departure Date (D/M/Y):\")) #change\n",
        "  a = datetime.strptime(departure_date, date_format)\n",
        "  return [departure_date,'None',0]"
      ],
      "metadata": {
        "id": "GQP0TdIow3k4"
      },
      "execution_count": null,
      "outputs": []
    },
    {
      "cell_type": "code",
      "source": [
        "def roundtrip():\n",
        "  date_format = \"%d/%m/%Y\"\n",
        "  departure_date=str(input(\"Enter Departure Date (D/M/Y):\")) #change\n",
        "  return_date=str(input(\"Enter Return Date (D/M/Y):\")) #change\n",
        "  a = datetime.strptime(departure_date, date_format)\n",
        "  b = datetime.strptime(return_date, date_format)\n",
        "  delta = b - a\n",
        "  return [departure_date,return_date,delta.days]"
      ],
      "metadata": {
        "id": "ZxHH2p5M3TH0"
      },
      "execution_count": null,
      "outputs": []
    },
    {
      "cell_type": "code",
      "source": [
        "def airport_type():\n",
        "  airline=str(input(\"Enter Airline :\")) #change\n",
        "  return airline"
      ],
      "metadata": {
        "id": "ZyxcahwWvdg1"
      },
      "execution_count": null,
      "outputs": []
    },
    {
      "cell_type": "code",
      "source": [
        "def personal_info():\n",
        "  name=str(input(\"Enter Firstname :\")) #change\n",
        "  surname=str(input(\"Enter Surname :\")) #change\n",
        "  tel=str(input(\"Enter Phone Number :\")) #change\n",
        "  return [name, surname, tel]"
      ],
      "metadata": {
        "id": "XGAijtpUxWxs"
      },
      "execution_count": null,
      "outputs": []
    },
    {
      "cell_type": "code",
      "source": [
        "AirportBooking= ArrayQueue()\n",
        "#def Booking(AirportBooking):\n",
        "result1=tickettype()\n",
        "result2=airport_type()\n",
        "result3=personal_info()\n",
        "result1"
      ],
      "metadata": {
        "colab": {
          "base_uri": "https://localhost:8080/"
        },
        "id": "Pwz7H5b6pwEq",
        "outputId": "460534a0-fb92-4643-a0f6-0cbcd3ec7b04"
      },
      "execution_count": null,
      "outputs": [
        {
          "name": "stdout",
          "output_type": "stream",
          "text": [
            "Enter type of ticket (One Trip / Round Trip):One Trip\n",
            "Enter Departure Date (D/M/Y):12/01/2002\n",
            "Enter Airline :t airline\n",
            "Enter Firstname :t\n",
            "Enter Surname :eee\n",
            "Enter Phone Number :09202992\n"
          ]
        },
        {
          "output_type": "execute_result",
          "data": {
            "text/plain": [
              "['12/01/2002', 'None', 0]"
            ]
          },
          "metadata": {},
          "execution_count": 11
        }
      ]
    },
    {
      "cell_type": "code",
      "source": [
        "print(result1,result2,result3)"
      ],
      "metadata": {
        "id": "NkNpDbtpyVyI",
        "colab": {
          "base_uri": "https://localhost:8080/"
        },
        "outputId": "58358c15-598c-47e6-bc63-2dfe1cac7f4b"
      },
      "execution_count": null,
      "outputs": [
        {
          "output_type": "stream",
          "name": "stdout",
          "text": [
            "['12/01/2002', 'None', 0] t airline ['t', 'eee', '09202992']\n"
          ]
        }
      ]
    },
    {
      "cell_type": "code",
      "source": [
        "Air=Airport_ticket(result1[0],result1[1],result1[2],result2,result3[0],result3[1],result3[2])\n",
        "#Air.tel\n",
        "q1=ArrayQueue()\n",
        "q1.enqueue(Air)\n",
        "print(len(q1))\n",
        "print(q1.first)"
      ],
      "metadata": {
        "colab": {
          "base_uri": "https://localhost:8080/"
        },
        "id": "7Tq72wlSyJ98",
        "outputId": "7ed2e2db-5524-4177-ab1b-5bb1ecf0d95a"
      },
      "execution_count": null,
      "outputs": [
        {
          "output_type": "stream",
          "name": "stdout",
          "text": [
            "1\n",
            "<bound method ArrayQueue.first of <__main__.ArrayQueue object at 0x7f6be883e390>>\n"
          ]
        }
      ]
    },
    {
      "cell_type": "code",
      "source": [
        "a=q1.first()\n",
        "a.tel"
      ],
      "metadata": {
        "colab": {
          "base_uri": "https://localhost:8080/",
          "height": 36
        },
        "id": "r1eHIUtg2u1v",
        "outputId": "92d11699-86da-4eb9-9654-e5e2d2ddc378"
      },
      "execution_count": null,
      "outputs": [
        {
          "output_type": "execute_result",
          "data": {
            "text/plain": [
              "'09202992'"
            ],
            "application/vnd.google.colaboratory.intrinsic+json": {
              "type": "string"
            }
          },
          "metadata": {},
          "execution_count": 22
        }
      ]
    },
    {
      "cell_type": "code",
      "source": [
        "host = ArrayQueue()\n",
        "ch='y'\n",
        "def Qadd(host):\n",
        "    hn=int(input(\"Enter hostel number: \"))\n",
        "    ts=int(input(\"Enter Total students: \"))\n",
        "    tr=int(input(\"Enter total rooms: \"))\n",
        "    temp=[hn,ts,tr]\n",
        "    host.enqueue(temp)\n",
        "\n",
        "def Qdel(host):\n",
        "    if(host==[]):\n",
        "        print(\"No Record\")\n",
        "    else:\n",
        "        print(\"Deleted Record is :\",host.dequeue())\n",
        "\n",
        "def displayfirst(host):\n",
        "    print(host.first())\n",
        "\n",
        "while(ch=='y' or ch=='Y'):\n",
        "    print(\"1. Add Record\\n\")\n",
        "    print(\"2. Delete Record\\n\")\n",
        "    print(\"3. Display 1st Record\\n\")\n",
        "    print(\"4. Exit\")\n",
        "    op=int(input(\"Enter the Choice: \"))\n",
        "    if(op==1):\n",
        "        Qadd(host)\n",
        "    elif(op==2):\n",
        "        Qdel(host)\n",
        "    elif(op==3):\n",
        "        displayfirst(host)\n",
        "    elif(op==4):\n",
        "        break\n",
        "    ch=input(\"Do you want to enter more? (Y/N): \")"
      ],
      "metadata": {
        "colab": {
          "base_uri": "https://localhost:8080/"
        },
        "id": "UfLbEJWIyDgO",
        "outputId": "b92bf637-182a-46fd-ad94-7e322af665db"
      },
      "execution_count": null,
      "outputs": [
        {
          "name": "stdout",
          "output_type": "stream",
          "text": [
            "1. Add Record\n",
            "\n",
            "2. Delete Record\n",
            "\n",
            "3. Display 1st Record\n",
            "\n",
            "4. Exit\n",
            "Enter the Choice: 1\n",
            "Enter hostel number: 164\n",
            "Enter Total students: 2\n",
            "Enter total rooms: 1\n",
            "Do you want to enter more? (Y/N): Y\n",
            "1. Add Record\n",
            "\n",
            "2. Delete Record\n",
            "\n",
            "3. Display 1st Record\n",
            "\n",
            "4. Exit\n",
            "Enter the Choice: 3\n",
            "[164, 2, 1]\n",
            "Do you want to enter more? (Y/N): N\n"
          ]
        }
      ]
    }
  ]
}